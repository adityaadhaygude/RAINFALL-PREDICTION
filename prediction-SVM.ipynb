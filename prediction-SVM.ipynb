{
 "cells": [
  {
   "cell_type": "code",
   "execution_count": 1,
   "metadata": {},
   "outputs": [],
   "source": [
    "import numpy as np \n",
    "import pandas as pd \n",
    "import matplotlib.pyplot as plt\n",
    "import seaborn as sns\n",
    "from sklearn.model_selection import train_test_split\n",
    "from sklearn.metrics import mean_absolute_error\n"
   ]
  },
  {
   "cell_type": "code",
   "execution_count": 2,
   "metadata": {},
   "outputs": [],
   "source": [
    "#Function to plot the graphs\n",
    "def plot_graphs(groundtruth,prediction,title):        \n",
    "    N = 9\n",
    "    ind = np.arange(N)  # the x locations for the groups\n",
    "    width = 0.27       # the width of the bars\n",
    "\n",
    "    fig = plt.figure()\n",
    "    fig.suptitle(title, fontsize=12)\n",
    "    ax = fig.add_subplot(111)\n",
    "    rects1 = ax.bar(ind, groundtruth, width, color='r')\n",
    "    rects2 = ax.bar(ind+width, prediction, width, color='g')\n",
    "\n",
    "    ax.set_ylabel(\"Amount of rainfall\")\n",
    "    ax.set_xticks(ind+width)\n",
    "    ax.set_xticklabels( ('APR', 'MAY', 'JUN', 'JUL','AUG', 'SEP', 'OCT', 'NOV', 'DEC') )\n",
    "    ax.legend( (rects1[0], rects2[0]), ('Ground truth', 'Prediction') )\n",
    "\n",
    "#     autolabel(rects1)\n",
    "    for rect in rects1:\n",
    "        h = rect.get_height()\n",
    "        ax.text(rect.get_x()+rect.get_width()/2., 1.05*h, '%d'%int(h),\n",
    "                ha='center', va='bottom')\n",
    "    for rect in rects2:\n",
    "        h = rect.get_height()\n",
    "        ax.text(rect.get_x()+rect.get_width()/2., 1.05*h, '%d'%int(h),\n",
    "                ha='center', va='bottom')\n",
    "#     autolabel(rects2)\n",
    "\n",
    "    plt.show()"
   ]
  },
  {
   "cell_type": "code",
   "execution_count": 3,
   "metadata": {},
   "outputs": [],
   "source": [
    "data = pd.read_csv(\"rainfall_in_india_1901-2015.csv\",sep=\",\")\n",
    "data = data.fillna(data.mean())\n",
    "division_data = np.asarray(data[['JAN', 'FEB', 'MAR', 'APR', 'MAY', 'JUN', 'JUL',\n",
    "       'AUG', 'SEP', 'OCT', 'NOV', 'DEC']])"
   ]
  },
  {
   "cell_type": "code",
   "execution_count": 4,
   "metadata": {},
   "outputs": [],
   "source": [
    "X = None; y = None\n",
    "for i in range(division_data.shape[1]-3):\n",
    "    if X is None:\n",
    "        X = division_data[:, i:i+3]\n",
    "        y = division_data[:, i+3]\n",
    "    else:\n",
    "        X = np.concatenate((X, division_data[:, i:i+3]), axis=0)\n",
    "        y = np.concatenate((y, division_data[:, i+3]), axis=0)\n",
    "        \n",
    "X_train, X_test, y_train, y_test = train_test_split(X, y, test_size=0.1, random_state=42)"
   ]
  },
  {
   "cell_type": "code",
   "execution_count": 5,
   "metadata": {},
   "outputs": [],
   "source": [
    "#test 2010\n",
    "temp = data[['SUBDIVISION','JAN', 'FEB', 'MAR', 'APR', 'MAY', 'JUN', 'JUL',\n",
    "       'AUG', 'SEP', 'OCT', 'NOV', 'DEC']].loc[data['YEAR'] == 2010]\n",
    "\n",
    "data_2010 = np.asarray(temp[['JAN', 'FEB', 'MAR', 'APR', 'MAY', 'JUN', 'JUL',\n",
    "       'AUG', 'SEP', 'OCT', 'NOV', 'DEC']].loc[temp['SUBDIVISION'] == 'TELANGANA'])\n",
    "\n",
    "X_year_2010 = None; y_year_2010 = None\n",
    "for i in range(data_2010.shape[1]-3):\n",
    "    if X_year_2010 is None:\n",
    "        X_year_2010 = data_2010[:, i:i+3]\n",
    "        y_year_2010 = data_2010[:, i+3]\n",
    "    else:\n",
    "        X_year_2010 = np.concatenate((X_year_2010, data_2010[:, i:i+3]), axis=0)\n",
    "        y_year_2010 = np.concatenate((y_year_2010, data_2010[:, i+3]), axis=0)"
   ]
  },
  {
   "cell_type": "code",
   "execution_count": 6,
   "metadata": {},
   "outputs": [],
   "source": [
    "#test 2005\n",
    "temp = data[['SUBDIVISION','JAN', 'FEB', 'MAR', 'APR', 'MAY', 'JUN', 'JUL',\n",
    "       'AUG', 'SEP', 'OCT', 'NOV', 'DEC']].loc[data['YEAR'] == 2005]\n",
    "\n",
    "data_2005 = np.asarray(temp[['JAN', 'FEB', 'MAR', 'APR', 'MAY', 'JUN', 'JUL',\n",
    "       'AUG', 'SEP', 'OCT', 'NOV', 'DEC']].loc[temp['SUBDIVISION'] == 'TELANGANA'])\n",
    "\n",
    "X_year_2005 = None; y_year_2005 = None\n",
    "for i in range(data_2005.shape[1]-3):\n",
    "    if X_year_2005 is None:\n",
    "        X_year_2005 = data_2005[:, i:i+3]\n",
    "        y_year_2005 = data_2005[:, i+3]\n",
    "    else:\n",
    "        X_year_2005 = np.concatenate((X_year_2005, data_2005[:, i:i+3]), axis=0)\n",
    "        y_year_2005 = np.concatenate((y_year_2005, data_2005[:, i+3]), axis=0)\n"
   ]
  },
  {
   "cell_type": "code",
   "execution_count": 7,
   "metadata": {},
   "outputs": [],
   "source": [
    "#terst 2015\n",
    "temp = data[['SUBDIVISION','JAN', 'FEB', 'MAR', 'APR', 'MAY', 'JUN', 'JUL',\n",
    "       'AUG', 'SEP', 'OCT', 'NOV', 'DEC']].loc[data['YEAR'] == 2015]\n",
    "\n",
    "data_2015 = np.asarray(temp[['JAN', 'FEB', 'MAR', 'APR', 'MAY', 'JUN', 'JUL',\n",
    "       'AUG', 'SEP', 'OCT', 'NOV', 'DEC']].loc[temp['SUBDIVISION'] == 'TELANGANA'])\n",
    "\n",
    "X_year_2015 = None; y_year_2015 = None\n",
    "for i in range(data_2015.shape[1]-3):\n",
    "    if X_year_2015 is None:\n",
    "        X_year_2015 = data_2015[:, i:i+3]\n",
    "        y_year_2015 = data_2015[:, i+3]\n",
    "    else:\n",
    "        X_year_2015 = np.concatenate((X_year_2015, data_2015[:, i:i+3]), axis=0)\n",
    "        y_year_2015 = np.concatenate((y_year_2015, data_2015[:, i+3]), axis=0)\n"
   ]
  },
  {
   "cell_type": "code",
   "execution_count": 8,
   "metadata": {},
   "outputs": [
    {
     "name": "stdout",
     "output_type": "stream",
     "text": [
      "127.1600615632603\n"
     ]
    }
   ],
   "source": [
    "from sklearn.svm import SVR\n",
    "\n",
    "# SVM model\n",
    "reg = SVR(gamma='auto', C=0.1, epsilon=0.2)\n",
    "reg.fit(X_train, y_train) \n",
    "y_pred = reg.predict(X_test)\n",
    "print (mean_absolute_error(y_test, y_pred))"
   ]
  },
  {
   "cell_type": "code",
   "execution_count": 9,
   "metadata": {},
   "outputs": [
    {
     "name": "stdout",
     "output_type": "stream",
     "text": [
      "MEAN 2005\n",
      "121.2111111111111 82.37838149669057\n",
      "Standard deviation 2005\n",
      "123.77066107608005 0.10154600935364391\n",
      "MEAN 2010\n",
      "139.93333333333334 81.95950058417766\n",
      "Standard deviation 2010\n",
      "135.71320250194282 0.8672445700490311\n",
      "MEAN 2015\n",
      "88.52222222222223 82.34592292482981\n",
      "Standard deviation 2015\n",
      "86.62446123324875 0.13020499474697297\n"
     ]
    },
    {
     "data": {
      "image/png": "[encoded data removed]",
      "text/plain": [
       "<Figure size 432x288 with 1 Axes>"
      ]
     },
     "metadata": {
      "needs_background": "light"
     },
     "output_type": "display_data"
    },
    {
     "data": {
      "image/png": "[encoded data removed]",
      "text/plain": [
       "<Figure size 432x288 with 1 Axes>"
      ]
     },
     "metadata": {
      "needs_background": "light"
     },
     "output_type": "display_data"
    },
    {
     "data": {
      "image/png": "[encoded data removed]",
      "text/plain": [
       "<Figure size 432x288 with 1 Axes>"
      ]
     },
     "metadata": {
      "needs_background": "light"
     },
     "output_type": "display_data"
    }
   ],
   "source": [
    "\n",
    "#2005\n",
    "y_year_pred_2005 = reg.predict(X_year_2005)\n",
    "\n",
    "\n",
    "#2010\n",
    "y_year_pred_2010 = reg.predict(X_year_2010)\n",
    "    \n",
    "y_year_pred_2015 = reg.predict(X_year_2015)\n",
    "\n",
    "print (\"MEAN 2005\")\n",
    "print (np.mean(y_year_2005),np.mean(y_year_pred_2005))\n",
    "print (\"Standard deviation 2005\")\n",
    "print (np.sqrt(np.var(y_year_2005)),np.sqrt(np.var(y_year_pred_2005)))\n",
    "\n",
    "\n",
    "print (\"MEAN 2010\")\n",
    "print (np.mean(y_year_2010),np.mean(y_year_pred_2010))\n",
    "print (\"Standard deviation 2010\")\n",
    "print (np.sqrt(np.var(y_year_2010)),np.sqrt(np.var(y_year_pred_2010)))\n",
    "\n",
    "\n",
    "print (\"MEAN 2015\")\n",
    "print (np.mean(y_year_2015),np.mean(y_year_pred_2015))\n",
    "print (\"Standard deviation 2015\")\n",
    "print (np.sqrt(np.var(y_year_2015)),np.sqrt(np.var(y_year_pred_2015)))\n",
    "\n",
    "\n",
    "plot_graphs(y_year_2005,y_year_pred_2005,\"Year-2005\")\n",
    "plot_graphs(y_year_2010,y_year_pred_2010,\"Year-2010\")\n",
    "plot_graphs(y_year_2015,y_year_pred_2015,\"Year-2015\")"
   ]
  },
  {
   "cell_type": "code",
   "execution_count": 10,
   "metadata": {},
   "outputs": [
    {
     "name": "stdout",
     "output_type": "stream",
     "text": [
      "MEAN SQUARED ERROR = 41470.84706342684\n",
      "ROOT MEAN SQUARED ERROR = 203.64392223542256\n",
      "MEAN ABSOLUTE ERROR = 127.1600615632603\n",
      "r2_score = -0.12437112975400688\n"
     ]
    }
   ],
   "source": [
    "from sklearn.metrics import mean_squared_error\n",
    "from sklearn.metrics import r2_score\n",
    "print (\"MEAN SQUARED ERROR =\",mean_squared_error(y_test, y_pred))\n",
    "print(\"ROOT MEAN SQUARED ERROR =\",np.sqrt(mean_squared_error(y_test, y_pred)))\n",
    "print(\"MEAN ABSOLUTE ERROR =\",mean_absolute_error(y_test, y_pred))\n",
    "print(\"r2_score =\",r2_score(y_test, y_pred))"
   ]
  },
  {
   "cell_type": "code",
   "execution_count": null,
   "metadata": {},
   "outputs": [],
   "source": []
  }
 ],
 "metadata": {
  "kernelspec": {
   "display_name": "Python 3",
   "language": "python",
   "name": "python3"
  },
  "language_info": {
   "codemirror_mode": {
    "name": "ipython",
    "version": 3
   },
   "file_extension": ".py",
   "mimetype": "text/x-python",
   "name": "python",
   "nbconvert_exporter": "python",
   "pygments_lexer": "ipython3",
   "version": "3.8.1"
  }
 },
 "nbformat": 4,
 "nbformat_minor": 4
}
